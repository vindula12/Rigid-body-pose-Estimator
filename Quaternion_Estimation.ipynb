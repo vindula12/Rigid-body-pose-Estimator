{
  "nbformat": 4,
  "nbformat_minor": 0,
  "metadata": {
    "colab": {
      "provenance": [],
      "authorship_tag": "ABX9TyOiJaKaxV5CbscBWd2kJsfZ",
      "include_colab_link": true
    },
    "kernelspec": {
      "name": "python3",
      "display_name": "Python 3"
    },
    "language_info": {
      "name": "python"
    }
  },
  "cells": [
    {
      "cell_type": "markdown",
      "metadata": {
        "id": "view-in-github",
        "colab_type": "text"
      },
      "source": [
        "<a href=\"https://colab.research.google.com/github/vindula12/Rigid-body-pose-Estimator/blob/main/Quaternion_Estimation.ipynb\" target=\"_parent\"><img src=\"https://colab.research.google.com/assets/colab-badge.svg\" alt=\"Open In Colab\"/></a>"
      ]
    },
    {
      "cell_type": "code",
      "execution_count": null,
      "metadata": {
        "id": "UUbiadb5SLf1"
      },
      "outputs": [],
      "source": [
        "import asyncio\n",
        "from mavsdk import System\n",
        "\n",
        "async def main():\n",
        "    # Connect to the drone\n",
        "    drone = System()\n",
        "    await drone.connect(system_address=\"udp://192.168.124.169:14556\")  # Replace with your connection string\n",
        "# import asyncio\n",
        "# from mavsdk import System\n",
        "# #IP ethernet: 10.42.0.96\n",
        "# async def get_imu_data():\n",
        "#     # Connect to the drone via UDP\n",
        "#     drone = System()\n",
        "#     print(\"Running\")\n",
        "#     await drone.connect(system_address=\"udp://192.168.124.169:14556\")\n",
        "\n",
        "    print(\"Waiting for drone to connect...\")\n",
        "    async for state in drone.core.connection_state():\n",
        "        if state.is_connected:\n",
        "            print(\"Drone connected!\")\n",
        "            break\n",
        "\n",
        "    # Subscribe to attitude updates\n",
        "    print(\"Fetching quaternion readings...\")\n",
        "    async for attitude in drone.telemetry.attitude_quaternion():\n",
        "        q0, q1, q2, q3 = attitude.w, attitude.x, attitude.y, attitude.z\n",
        "        print(f\"Quaternion: q0={q0}, q1={q1}, q2={q2}, q3={q3}\")\n",
        "        await asyncio.sleep(0.5)  # Fetch at a regular interval\n",
        "\n",
        "# Run the async function\n",
        "if __name__ == \"__main__\":\n",
        "    asyncio.run(main())"
      ]
    }
  ]
}